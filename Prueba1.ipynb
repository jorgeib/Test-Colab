{
  "nbformat": 4,
  "nbformat_minor": 0,
  "metadata": {
    "colab": {
      "name": "Prueba1.ipynb",
      "provenance": [],
      "authorship_tag": "ABX9TyPPedYpr97bMQBztawiszTk",
      "include_colab_link": true
    },
    "kernelspec": {
      "name": "python3",
      "display_name": "Python 3"
    },
    "language_info": {
      "name": "python"
    }
  },
  "cells": [
    {
      "cell_type": "markdown",
      "metadata": {
        "id": "view-in-github",
        "colab_type": "text"
      },
      "source": [
        "<a href=\"https://colab.research.google.com/github/jorgeib/Test-Colab/blob/main/Prueba1.ipynb\" target=\"_parent\"><img src=\"https://colab.research.google.com/assets/colab-badge.svg\" alt=\"Open In Colab\"/></a>"
      ]
    },
    {
      "cell_type": "code",
      "metadata": {
        "id": "b20lHYR5eCP8",
        "colab": {
          "base_uri": "https://localhost:8080/"
        },
        "outputId": "6332cac6-c4ce-467e-c450-6c1432bc7474"
      },
      "source": [
        "print('Hola mundo ')"
      ],
      "execution_count": 1,
      "outputs": [
        {
          "output_type": "stream",
          "text": [
            "Hola mundo \n"
          ],
          "name": "stdout"
        }
      ]
    }
  ]
}